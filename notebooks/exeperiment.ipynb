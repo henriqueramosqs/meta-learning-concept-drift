{
 "cells": [
  {
   "cell_type": "code",
   "execution_count": null,
   "id": "19659bf5",
   "metadata": {},
   "outputs": [],
   "source": [
    "import sys\n",
    "import os\n",
    "sys.path.append(os.path.abspath(\"..\")) \n",
    "import pandas as pd\n",
    "import numpy as np\n",
    "from tqdm import tqdm\n",
    "from models.meta_learner import MetaLearner\n",
    "from data.data_loader import DataLoader\n",
    "from sklearn.tree import DecisionTreeClassifier\n",
    "from sklearn.linear_model import LogisticRegression\n",
    "from sklearn.ensemble import RandomForestClassifier\n",
    "from sklearn.svm import SVC\n",
    "import lightgbm as ltb\n",
    "from data.utils.eda import EDA\n"
   ]
  },
  {
   "cell_type": "code",
   "execution_count": null,
   "id": "d06f8d4a",
   "metadata": {},
   "outputs": [],
   "source": [
    "performance_metric = \"recall\"\n",
    "base_model = RandomForestClassifier()\n",
    "df =  DataLoader.load_data(\"real/electricity.arff\")\n",
    "OFFLINE_PHASE_SIZE = 5000\n",
    "BASE_TRAIN_SIZE = 2000\n",
    "ETA = 200  \n",
    "STEP = 30 \n",
    "TARGET_DELAY = 500"
   ]
  },
  {
   "cell_type": "code",
   "execution_count": null,
   "id": "37678cf8",
   "metadata": {},
   "outputs": [],
   "source": [
    "print(df.columns)"
   ]
  },
  {
   "cell_type": "code",
   "execution_count": null,
   "id": "2967d170",
   "metadata": {},
   "outputs": [],
   "source": [
    "meta_learner = MetaLearner(\n",
    "    base_model=base_model,\n",
    "    performance_metrics=[performance_metric],\n",
    "    has_dft_mfes=False,\n",
    "    eta=ETA,\n",
    "    step=STEP,\n",
    "    target_delay=TARGET_DELAY,\n",
    "    pca_n_components=None\n",
    ")\n",
    "\n",
    "offline_df = df.iloc[:OFFLINE_PHASE_SIZE]\n",
    "online_df = df.iloc[OFFLINE_PHASE_SIZE:]\n",
    "online_features = online_df.drop(\"class\",axis=1)\n",
    "online_targets = online_df[\"class\"]\n",
    "meta_learner.fit(offline_df,BASE_TRAIN_SIZE)\n"
   ]
  },
  {
   "cell_type": "code",
   "execution_count": null,
   "id": "695ddd4b",
   "metadata": {},
   "outputs": [],
   "source": [
    "df.head()"
   ]
  },
  {
   "cell_type": "code",
   "execution_count": null,
   "id": "0c6e9a89",
   "metadata": {},
   "outputs": [],
   "source": [
    "with tqdm(total=TARGET_DELAY) as pbar:\n",
    "    for i, row in online_features.iloc[:TARGET_DELAY].iterrows():\n",
    "        row = pd.DataFrame([row], columns=row.index)\n",
    "        meta_learner.update(row)\n",
    "        pbar.update(1)"
   ]
  },
  {
   "cell_type": "code",
   "execution_count": null,
   "id": "d69bd942",
   "metadata": {},
   "outputs": [],
   "source": [
    "df = online_features.iloc[TARGET_DELAY:-TARGET_DELAY]\n",
    "EDA.make()"
   ]
  },
  {
   "cell_type": "code",
   "execution_count": null,
   "id": "e90e1173",
   "metadata": {},
   "outputs": [],
   "source": [
    "\n",
    "with tqdm(total=df.shape[0]) as pbar:\n",
    "    for i, row in df.iterrows():\n",
    "        row = pd.DataFrame([row], columns=row.index)\n",
    "        meta_learner.update(row)\n",
    "        # meta_learner.update_target(online_targets.iloc[i - TARGET_DELAY])\n",
    "        pbar.update(1)\n"
   ]
  },
  {
   "cell_type": "code",
   "execution_count": null,
   "id": "344a2609",
   "metadata": {},
   "outputs": [],
   "source": [
    "with tqdm(total=TARGET_DELAY) as pbar:\n",
    "    for target in online_targets.tail(TARGET_DELAY):\n",
    "        meta_learner.update_target(target)\n",
    "        pbar.update(1)"
   ]
  },
  {
   "cell_type": "code",
   "execution_count": null,
   "id": "dc78c41e",
   "metadata": {},
   "outputs": [],
   "source": []
  }
 ],
 "metadata": {
  "kernelspec": {
   "display_name": "Python 3",
   "language": "python",
   "name": "python3"
  },
  "language_info": {
   "codemirror_mode": {
    "name": "ipython",
    "version": 3
   },
   "file_extension": ".py",
   "mimetype": "text/x-python",
   "name": "python",
   "nbconvert_exporter": "python",
   "pygments_lexer": "ipython3",
   "version": "3.10.5"
  }
 },
 "nbformat": 4,
 "nbformat_minor": 5
}
